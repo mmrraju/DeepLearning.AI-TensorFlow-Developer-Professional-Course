{
  "nbformat": 4,
  "nbformat_minor": 0,
  "metadata": {
    "colab": {
      "name": "Exercise 4-Question.ipynb",
      "provenance": [],
      "toc_visible": true
    },
    "kernelspec": {
      "display_name": "Python 3",
      "name": "python3"
    }
  },
  "cells": [
    {
      "cell_type": "code",
      "metadata": {
        "id": "zX4Kg8DUTKWO"
      },
      "source": [
        "#@title Licensed under the Apache License, Version 2.0 (the \"License\");\n",
        "# you may not use this file except in compliance with the License.\n",
        "# You may obtain a copy of the License at\n",
        "#\n",
        "# https://www.apache.org/licenses/LICENSE-2.0\n",
        "#\n",
        "# Unless required by applicable law or agreed to in writing, software\n",
        "# distributed under the License is distributed on an \"AS IS\" BASIS,\n",
        "# WITHOUT WARRANTIES OR CONDITIONS OF ANY KIND, either express or implied.\n",
        "# See the License for the specific language governing permissions and\n",
        "# limitations under the License."
      ],
      "execution_count": null,
      "outputs": []
    },
    {
      "cell_type": "markdown",
      "metadata": {
        "id": "UncprnB0ymAE"
      },
      "source": [
        "Below is code with a link to a happy or sad dataset which contains 80 images, 40 happy and 40 sad. \n",
        "Create a convolutional neural network that trains to 100% accuracy on these images,  which cancels training upon hitting training accuracy of >.999\n",
        "\n",
        "Hint -- it will work best with 3 convolutional layers."
      ]
    },
    {
      "cell_type": "code",
      "metadata": {
        "colab": {
          "base_uri": "https://localhost:8080/"
        },
        "id": "7Vti6p3PxmpS",
        "outputId": "e06d96d0-dd8c-4d08-9c2e-828b44ca0901"
      },
      "source": [
        "import tensorflow as tf\n",
        "import os\n",
        "import zipfile\n",
        "\n",
        "\n",
        "DESIRED_ACCURACY = 0.999\n",
        "\n",
        "!wget --no-check-certificate \\\n",
        "    \"https://storage.googleapis.com/laurencemoroney-blog.appspot.com/happy-or-sad.zip\" \\\n",
        "    -O \"/tmp/happy-or-sad.zip\"\n",
        "\n",
        "zip_ref = zipfile.ZipFile(\"/tmp/happy-or-sad.zip\", 'r')\n",
        "zip_ref.extractall(\"/tmp/h-or-s\")\n",
        "zip_ref.close()\n",
        "\n",
        "class myCallback(tf.keras.callbacks.Callback):\n",
        "         def on_epoch_end(self, epochs,logs={}):\n",
        "                if (logs.get('acc')>=DESIRED_ACCURACY):\n",
        "                    print(\"\\nReached 99.9% accuracy so cancelling training\")\n",
        "                    self.model.stop_training=True\n",
        "\n",
        "callbacks = myCallback()"
      ],
      "execution_count": 6,
      "outputs": [
        {
          "output_type": "stream",
          "text": [
            "--2021-05-10 08:59:35--  https://storage.googleapis.com/laurencemoroney-blog.appspot.com/happy-or-sad.zip\n",
            "Resolving storage.googleapis.com (storage.googleapis.com)... 142.250.141.128, 74.125.137.128, 2607:f8b0:4023:c0b::80\n",
            "Connecting to storage.googleapis.com (storage.googleapis.com)|142.250.141.128|:443... connected.\n",
            "HTTP request sent, awaiting response... 200 OK\n",
            "Length: 2670333 (2.5M) [application/zip]\n",
            "Saving to: ‘/tmp/happy-or-sad.zip’\n",
            "\n",
            "/tmp/happy-or-sad.z 100%[===================>]   2.55M  --.-KB/s    in 0.02s   \n",
            "\n",
            "2021-05-10 08:59:36 (135 MB/s) - ‘/tmp/happy-or-sad.zip’ saved [2670333/2670333]\n",
            "\n"
          ],
          "name": "stdout"
        }
      ]
    },
    {
      "cell_type": "code",
      "metadata": {
        "id": "6DLGbXXI1j_V"
      },
      "source": [
        "# This Code Block should Define and Compile the Model\n",
        "model = tf.keras.models.Sequential([\n",
        "        tf.keras.layers.Conv2D(16, (3, 3), activation = 'relu', input_shape=(100, 100, 3)),\n",
        "        tf.keras.layers.MaxPooling2D(2, 2),\n",
        "        tf.keras.layers.Conv2D(32, (3,3), activation = 'relu'),\n",
        "        tf.keras.layers.MaxPooling2D(2, 2),\n",
        "        tf.keras.layers.Conv2D(64, (3, 3), activation='relu'),\n",
        "        tf.keras.layers.MaxPooling2D(2, 2),\n",
        "        tf.keras.layers.Flatten(),\n",
        "        tf.keras.layers.Dense(512, activation = 'relu'),\n",
        "        tf.keras.layers.Dense(1, activation = 'sigmoid')\n",
        "    ])\n",
        "\n",
        "from tensorflow.keras.optimizers import RMSprop\n",
        "\n",
        "model.compile(optimizer = 'RMSprop', loss = 'binary_crossentropy', metrics = ['acc'])"
      ],
      "execution_count": 7,
      "outputs": []
    },
    {
      "cell_type": "code",
      "metadata": {
        "colab": {
          "base_uri": "https://localhost:8080/"
        },
        "id": "4Ap9fUJE1vVu",
        "outputId": "885fd423-09c6-435c-8b44-a742e3b40631"
      },
      "source": [
        "# This code block should create an instance of an ImageDataGenerator called train_datagen \n",
        "# And a train_generator by calling train_datagen.flow_from_directory\n",
        "\n",
        "from tensorflow.keras.preprocessing.image import ImageDataGenerator\n",
        "\n",
        "train_datagen = ImageDataGenerator(rescale = 1/255)\n",
        "\n",
        "train_generator = train_datagen.flow_from_directory(\n",
        "        '/tmp/h-or-s/',\n",
        "        target_size = (100, 100),\n",
        "        batch_size = 80,\n",
        "        class_mode = 'binary')\n",
        "\n",
        "# Expected output: 'Found 80 images belonging to 2 classes'"
      ],
      "execution_count": 8,
      "outputs": [
        {
          "output_type": "stream",
          "text": [
            "Found 80 images belonging to 2 classes.\n"
          ],
          "name": "stdout"
        }
      ]
    },
    {
      "cell_type": "code",
      "metadata": {
        "colab": {
          "base_uri": "https://localhost:8080/"
        },
        "id": "48dLm13U1-Le",
        "outputId": "95aac149-e7ac-4179-af15-e3756e6b8f7a"
      },
      "source": [
        "# This code block should call model.fit and train for\n",
        "# a number of epochs. \n",
        "history = model.fit_generator(\n",
        "                train_generator,\n",
        "                steps_per_epoch = 1,\n",
        "                epochs = 20,\n",
        "                verbose = 1, \n",
        "                callbacks = [callbacks])\n",
        "    \n",
        "# Expected output: \"Reached 99.9% accuracy so cancelling training!\"\""
      ],
      "execution_count": 9,
      "outputs": [
        {
          "output_type": "stream",
          "text": [
            "/usr/local/lib/python3.7/dist-packages/tensorflow/python/keras/engine/training.py:1844: UserWarning: `Model.fit_generator` is deprecated and will be removed in a future version. Please use `Model.fit`, which supports generators.\n",
            "  warnings.warn('`Model.fit_generator` is deprecated and '\n"
          ],
          "name": "stderr"
        },
        {
          "output_type": "stream",
          "text": [
            "Epoch 1/20\n",
            "1/1 [==============================] - 1s 1s/step - loss: 0.7086 - acc: 0.5000\n",
            "Epoch 2/20\n",
            "1/1 [==============================] - 1s 691ms/step - loss: 2.7978 - acc: 0.5000\n",
            "Epoch 3/20\n",
            "1/1 [==============================] - 1s 675ms/step - loss: 1.3784 - acc: 0.5000\n",
            "Epoch 4/20\n",
            "1/1 [==============================] - 1s 671ms/step - loss: 0.6964 - acc: 0.5000\n",
            "Epoch 5/20\n",
            "1/1 [==============================] - 1s 667ms/step - loss: 0.6804 - acc: 0.5000\n",
            "Epoch 6/20\n",
            "1/1 [==============================] - 1s 667ms/step - loss: 0.6640 - acc: 0.6750\n",
            "Epoch 7/20\n",
            "1/1 [==============================] - 1s 655ms/step - loss: 0.6404 - acc: 0.7500\n",
            "Epoch 8/20\n",
            "1/1 [==============================] - 1s 663ms/step - loss: 0.6303 - acc: 0.5000\n",
            "Epoch 9/20\n",
            "1/1 [==============================] - 1s 659ms/step - loss: 0.6904 - acc: 0.5000\n",
            "Epoch 10/20\n",
            "1/1 [==============================] - 1s 669ms/step - loss: 0.5979 - acc: 0.6625\n",
            "Epoch 11/20\n",
            "1/1 [==============================] - 1s 674ms/step - loss: 0.5477 - acc: 0.9500\n",
            "Epoch 12/20\n",
            "1/1 [==============================] - 1s 669ms/step - loss: 0.5043 - acc: 0.7500\n",
            "Epoch 13/20\n",
            "1/1 [==============================] - 1s 665ms/step - loss: 0.6194 - acc: 0.5000\n",
            "Epoch 14/20\n",
            "1/1 [==============================] - 1s 695ms/step - loss: 0.6580 - acc: 0.5000\n",
            "Epoch 15/20\n",
            "1/1 [==============================] - 1s 663ms/step - loss: 0.5549 - acc: 0.8750\n",
            "Epoch 16/20\n",
            "1/1 [==============================] - 1s 659ms/step - loss: 0.4350 - acc: 1.0000\n",
            "\n",
            "Reached 99.9% accuracy so cancelling training\n"
          ],
          "name": "stdout"
        }
      ]
    },
    {
      "cell_type": "code",
      "metadata": {
        "id": "RTeKe9DpgK_G"
      },
      "source": [
        ""
      ],
      "execution_count": null,
      "outputs": []
    }
  ]
}